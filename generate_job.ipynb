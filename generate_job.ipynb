{
 "cells": [
  {
   "cell_type": "code",
   "execution_count": 1,
   "metadata": {},
   "outputs": [],
   "source": [
    "import os\n",
    "import time"
   ]
  },
  {
   "cell_type": "markdown",
   "metadata": {},
   "source": [
    "# Generate Experiment Config"
   ]
  },
  {
   "cell_type": "code",
   "execution_count": null,
   "metadata": {},
   "outputs": [],
   "source": []
  },
  {
   "cell_type": "markdown",
   "metadata": {},
   "source": [
    "# Generate Job Script"
   ]
  },
  {
   "cell_type": "code",
   "execution_count": 2,
   "metadata": {},
   "outputs": [
    {
     "data": {
      "text/plain": [
       "['./config/experiments/goodruns_pybullet/AntPyBulletEnv/mve_tdk1.json',\n",
       " './config/experiments/goodruns_pybullet/AntPyBulletEnv/steve3.json',\n",
       " './config/experiments/goodruns_pybullet/AntPyBulletEnv/mve_tdk0.json',\n",
       " './config/experiments/goodruns_pybullet/AntPyBulletEnv/steve2.json',\n",
       " './config/experiments/goodruns_pybullet/AntPyBulletEnv/mve_tdk2.json',\n",
       " './config/experiments/goodruns_pybullet/AntPyBulletEnv/steve0.json',\n",
       " './config/experiments/goodruns_pybullet/AntPyBulletEnv/mve_tdk3.json',\n",
       " './config/experiments/goodruns_pybullet/AntPyBulletEnv/steve1.json',\n",
       " './config/experiments/goodruns_pybullet/HopperPyBulletEnv/steve3.json',\n",
       " './config/experiments/goodruns_pybullet/HopperPyBulletEnv/mve_tdk3.json',\n",
       " './config/experiments/goodruns_pybullet/HopperPyBulletEnv/mve_tdk2.json',\n",
       " './config/experiments/goodruns_pybullet/HopperPyBulletEnv/steve2.json',\n",
       " './config/experiments/goodruns_pybullet/HopperPyBulletEnv/mve_tdk0.json',\n",
       " './config/experiments/goodruns_pybullet/HopperPyBulletEnv/steve0.json',\n",
       " './config/experiments/goodruns_pybullet/HopperPyBulletEnv/steve1.json',\n",
       " './config/experiments/goodruns_pybullet/HopperPyBulletEnv/mve_tdk1.json',\n",
       " './config/experiments/goodruns_pybullet/HumanoidPyBulletEnv/mve_tdk1.json',\n",
       " './config/experiments/goodruns_pybullet/HumanoidPyBulletEnv/steve0.json',\n",
       " './config/experiments/goodruns_pybullet/HumanoidPyBulletEnv/steve1.json',\n",
       " './config/experiments/goodruns_pybullet/HumanoidPyBulletEnv/mve_tdk0.json',\n",
       " './config/experiments/goodruns_pybullet/HumanoidPyBulletEnv/steve3.json',\n",
       " './config/experiments/goodruns_pybullet/HumanoidPyBulletEnv/mve_tdk2.json',\n",
       " './config/experiments/goodruns_pybullet/HumanoidPyBulletEnv/mve_tdk3.json',\n",
       " './config/experiments/goodruns_pybullet/HumanoidPyBulletEnv/steve2.json',\n",
       " './config/experiments/goodruns_pybullet/HalfCheetahPyBulletEnv/mve_tdk1.json',\n",
       " './config/experiments/goodruns_pybullet/HalfCheetahPyBulletEnv/steve0.json',\n",
       " './config/experiments/goodruns_pybullet/HalfCheetahPyBulletEnv/steve1.json',\n",
       " './config/experiments/goodruns_pybullet/HalfCheetahPyBulletEnv/mve_tdk0.json',\n",
       " './config/experiments/goodruns_pybullet/HalfCheetahPyBulletEnv/steve3.json',\n",
       " './config/experiments/goodruns_pybullet/HalfCheetahPyBulletEnv/mve_tdk2.json',\n",
       " './config/experiments/goodruns_pybullet/HalfCheetahPyBulletEnv/mve_tdk3.json',\n",
       " './config/experiments/goodruns_pybullet/HalfCheetahPyBulletEnv/steve2.json',\n",
       " './config/experiments/goodruns_pybullet/HalfCheetahMuJoCoEnv/mve_tdk1.json',\n",
       " './config/experiments/goodruns_pybullet/HalfCheetahMuJoCoEnv/steve3.json',\n",
       " './config/experiments/goodruns_pybullet/HalfCheetahMuJoCoEnv/steve2.json',\n",
       " './config/experiments/goodruns_pybullet/HalfCheetahMuJoCoEnv/mve_tdk0.json',\n",
       " './config/experiments/goodruns_pybullet/HalfCheetahMuJoCoEnv/steve0.json',\n",
       " './config/experiments/goodruns_pybullet/HalfCheetahMuJoCoEnv/mve_tdk2.json',\n",
       " './config/experiments/goodruns_pybullet/HalfCheetahMuJoCoEnv/mve_tdk3.json',\n",
       " './config/experiments/goodruns_pybullet/HalfCheetahMuJoCoEnv/steve1.json',\n",
       " './config/experiments/goodruns_pybullet/AntMuJoCoEnv/mve_tdk3.json',\n",
       " './config/experiments/goodruns_pybullet/AntMuJoCoEnv/steve1.json',\n",
       " './config/experiments/goodruns_pybullet/AntMuJoCoEnv/steve0.json',\n",
       " './config/experiments/goodruns_pybullet/AntMuJoCoEnv/mve_tdk2.json',\n",
       " './config/experiments/goodruns_pybullet/AntMuJoCoEnv/steve2.json',\n",
       " './config/experiments/goodruns_pybullet/AntMuJoCoEnv/mve_tdk0.json',\n",
       " './config/experiments/goodruns_pybullet/AntMuJoCoEnv/mve_tdk1.json',\n",
       " './config/experiments/goodruns_pybullet/AntMuJoCoEnv/steve3.json',\n",
       " './config/experiments/goodruns_pybullet/Walker2DPyBulletEnv/mve_tdk3.json',\n",
       " './config/experiments/goodruns_pybullet/Walker2DPyBulletEnv/steve2.json',\n",
       " './config/experiments/goodruns_pybullet/Walker2DPyBulletEnv/steve3.json',\n",
       " './config/experiments/goodruns_pybullet/Walker2DPyBulletEnv/mve_tdk2.json',\n",
       " './config/experiments/goodruns_pybullet/Walker2DPyBulletEnv/steve1.json',\n",
       " './config/experiments/goodruns_pybullet/Walker2DPyBulletEnv/mve_tdk0.json',\n",
       " './config/experiments/goodruns_pybullet/Walker2DPyBulletEnv/mve_tdk1.json',\n",
       " './config/experiments/goodruns_pybullet/Walker2DPyBulletEnv/steve0.json',\n",
       " './config/experiments/goodruns_pybullet/Walker2DMuJoCoEnv/mve_tdk2.json',\n",
       " './config/experiments/goodruns_pybullet/Walker2DMuJoCoEnv/steve3.json',\n",
       " './config/experiments/goodruns_pybullet/Walker2DMuJoCoEnv/mve_tdk3.json',\n",
       " './config/experiments/goodruns_pybullet/Walker2DMuJoCoEnv/steve2.json',\n",
       " './config/experiments/goodruns_pybullet/Walker2DMuJoCoEnv/mve_tdk1.json',\n",
       " './config/experiments/goodruns_pybullet/Walker2DMuJoCoEnv/steve0.json',\n",
       " './config/experiments/goodruns_pybullet/Walker2DMuJoCoEnv/mve_tdk0.json',\n",
       " './config/experiments/goodruns_pybullet/Walker2DMuJoCoEnv/steve1.json']"
      ]
     },
     "execution_count": 2,
     "metadata": {},
     "output_type": "execute_result"
    }
   ],
   "source": [
    "job_config_dir = './config/experiments/goodruns_pybullet'\n",
    "tasks = os.listdir(job_config_dir)\n",
    "exp_config_list = []\n",
    "for t in tasks:\n",
    "    exp_runs = os.listdir(os.path.join(job_config_dir, t))\n",
    "    for e in exp_runs:\n",
    "        exp_config_list.append(os.path.join(job_config_dir, t, e))\n",
    "exp_config_list"
   ]
  },
  {
   "cell_type": "code",
   "execution_count": 3,
   "metadata": {},
   "outputs": [],
   "source": [
    "CPU_NUM = 2\n",
    "GPU_TYPE = 'k20'\n",
    "GPU_NUM = 2\n",
    "JOB_TIME = '2-10:00' #'0-10:00'\n",
    "job_out_dir = './job_script_out'\n",
    "job_dir = './job_script'"
   ]
  },
  {
   "cell_type": "code",
   "execution_count": 4,
   "metadata": {},
   "outputs": [
    {
     "data": {
      "text/plain": [
       "32"
      ]
     },
     "execution_count": 4,
     "metadata": {},
     "output_type": "execute_result"
    }
   ],
   "source": [
    "len(exp_config_list)//2"
   ]
  },
  {
   "cell_type": "code",
   "execution_count": 5,
   "metadata": {},
   "outputs": [
    {
     "name": "stdout",
     "output_type": "stream",
     "text": [
      "Job 0: job_AntPyBulletEnv_mve_tdk1.sh\n",
      "Job 1: job_AntPyBulletEnv_steve3.sh\n",
      "Job 2: job_AntPyBulletEnv_mve_tdk0.sh\n",
      "Job 3: job_AntPyBulletEnv_steve2.sh\n",
      "Job 4: job_AntPyBulletEnv_mve_tdk2.sh\n",
      "Job 5: job_AntPyBulletEnv_steve0.sh\n",
      "Job 6: job_AntPyBulletEnv_mve_tdk3.sh\n",
      "Job 7: job_AntPyBulletEnv_steve1.sh\n",
      "Job 8: job_HopperPyBulletEnv_steve3.sh\n",
      "Job 9: job_HopperPyBulletEnv_mve_tdk3.sh\n",
      "Job 10: job_HopperPyBulletEnv_mve_tdk2.sh\n",
      "Job 11: job_HopperPyBulletEnv_steve2.sh\n",
      "Job 12: job_HopperPyBulletEnv_mve_tdk0.sh\n",
      "Job 13: job_HopperPyBulletEnv_steve0.sh\n",
      "Job 14: job_HopperPyBulletEnv_steve1.sh\n",
      "Job 15: job_HopperPyBulletEnv_mve_tdk1.sh\n",
      "Job 16: job_HumanoidPyBulletEnv_mve_tdk1.sh\n",
      "Job 17: job_HumanoidPyBulletEnv_steve0.sh\n",
      "Job 18: job_HumanoidPyBulletEnv_steve1.sh\n",
      "Job 19: job_HumanoidPyBulletEnv_mve_tdk0.sh\n",
      "Job 20: job_HumanoidPyBulletEnv_steve3.sh\n",
      "Job 21: job_HumanoidPyBulletEnv_mve_tdk2.sh\n",
      "Job 22: job_HumanoidPyBulletEnv_mve_tdk3.sh\n",
      "Job 23: job_HumanoidPyBulletEnv_steve2.sh\n",
      "Job 24: job_HalfCheetahPyBulletEnv_mve_tdk1.sh\n",
      "Job 25: job_HalfCheetahPyBulletEnv_steve0.sh\n",
      "Job 26: job_HalfCheetahPyBulletEnv_steve1.sh\n",
      "Job 27: job_HalfCheetahPyBulletEnv_mve_tdk0.sh\n",
      "Job 28: job_HalfCheetahPyBulletEnv_steve3.sh\n",
      "Job 29: job_HalfCheetahPyBulletEnv_mve_tdk2.sh\n",
      "Job 30: job_HalfCheetahPyBulletEnv_mve_tdk3.sh\n",
      "Job 31: job_HalfCheetahPyBulletEnv_steve2.sh\n",
      "Job 32: job_HalfCheetahMuJoCoEnv_mve_tdk1.sh\n",
      "Job 33: job_HalfCheetahMuJoCoEnv_steve3.sh\n",
      "Job 34: job_HalfCheetahMuJoCoEnv_steve2.sh\n",
      "Job 35: job_HalfCheetahMuJoCoEnv_mve_tdk0.sh\n",
      "Job 36: job_HalfCheetahMuJoCoEnv_steve0.sh\n",
      "Job 37: job_HalfCheetahMuJoCoEnv_mve_tdk2.sh\n",
      "Job 38: job_HalfCheetahMuJoCoEnv_mve_tdk3.sh\n",
      "Job 39: job_HalfCheetahMuJoCoEnv_steve1.sh\n",
      "Job 40: job_AntMuJoCoEnv_mve_tdk3.sh\n",
      "Job 41: job_AntMuJoCoEnv_steve1.sh\n",
      "Job 42: job_AntMuJoCoEnv_steve0.sh\n",
      "Job 43: job_AntMuJoCoEnv_mve_tdk2.sh\n",
      "Job 44: job_AntMuJoCoEnv_steve2.sh\n",
      "Job 45: job_AntMuJoCoEnv_mve_tdk0.sh\n",
      "Job 46: job_AntMuJoCoEnv_mve_tdk1.sh\n",
      "Job 47: job_AntMuJoCoEnv_steve3.sh\n",
      "Job 48: job_Walker2DPyBulletEnv_mve_tdk3.sh\n",
      "Job 49: job_Walker2DPyBulletEnv_steve2.sh\n",
      "Job 50: job_Walker2DPyBulletEnv_steve3.sh\n",
      "Job 51: job_Walker2DPyBulletEnv_mve_tdk2.sh\n",
      "Job 52: job_Walker2DPyBulletEnv_steve1.sh\n",
      "Job 53: job_Walker2DPyBulletEnv_mve_tdk0.sh\n",
      "Job 54: job_Walker2DPyBulletEnv_mve_tdk1.sh\n",
      "Job 55: job_Walker2DPyBulletEnv_steve0.sh\n",
      "Job 56: job_Walker2DMuJoCoEnv_mve_tdk2.sh\n",
      "Job 57: job_Walker2DMuJoCoEnv_steve3.sh\n",
      "Job 58: job_Walker2DMuJoCoEnv_mve_tdk3.sh\n",
      "Job 59: job_Walker2DMuJoCoEnv_steve2.sh\n",
      "Job 60: job_Walker2DMuJoCoEnv_mve_tdk1.sh\n",
      "Job 61: job_Walker2DMuJoCoEnv_steve0.sh\n",
      "Job 62: job_Walker2DMuJoCoEnv_mve_tdk0.sh\n",
      "Job 63: job_Walker2DMuJoCoEnv_steve1.sh\n"
     ]
    }
   ],
   "source": [
    "for exp_i, exp_config in enumerate(exp_config_list):\n",
    "    config_keys = exp_config.split('/')\n",
    "    config_task = config_keys[4]\n",
    "    config_alg = config_keys[5].split('.')[0]\n",
    "#     print('{} {}'.format(config_task, config_alg))\n",
    "    \n",
    "    job_filename = 'job_{0}_{1}.sh'.format(config_task, config_alg)\n",
    "    print('Job {}: {}'.format(exp_i, job_filename))\n",
    "    \n",
    "    if exp_i < (len(exp_config_list)//2):\n",
    "        GPU_TYPE = 'k20'\n",
    "    else:\n",
    "        GPU_TYPE = 'k80'\n",
    "    \n",
    "    with open(os.path.join(job_dir, job_filename), 'w') as job_file:\n",
    "        job_file.write('#!/bin/bash\\n')\n",
    "        job_file.write('#SBATCH --account=def-dkulic\\n')\n",
    "        job_file.write('#SBATCH --nodes=1\\n')\n",
    "        job_file.write('#SBATCH --gres=gpu:{}:{}\\n'.format(GPU_TYPE, GPU_NUM))\n",
    "        job_file.write('#SBATCH --ntasks=3\\n')\n",
    "        job_file.write('#SBATCH --cpus-per-task=2 \\n')\n",
    "        job_file.write('#SBATCH --mem-per-cpu=4G \\n')\n",
    "        job_file.write('#SBATCH --time={}            # time (DD-HH:MM)\\n'.format(JOB_TIME))\n",
    "        job_file.write('#SBATCH --output={0}/{1}_{2}_%N-%j.out # %N for node name, %j for jobID\\n'.format(job_out_dir, config_task, config_alg))\n",
    "        job_file.write('## Main processing command\\n')\n",
    "        job_file.write('module load cuda cudnn \\n')\n",
    "        job_file.write('source ~/tf_gpu/bin/activate\\n')\n",
    "        job_file.write('python ./master.py {} 0'.format(exp_config))\n"
   ]
  },
  {
   "cell_type": "code",
   "execution_count": 6,
   "metadata": {},
   "outputs": [],
   "source": [
    "# #!/bin/bash\n",
    "# #SBATCH --account=def-dkulic\n",
    "# #SBATCH --nodes=1\n",
    "# #SBATCH --gres=gpu:k20:2\n",
    "# #SBATCH --ntasks=3\n",
    "# #SBATCH --cpus-per-task=2    #Maximum of CPU cores per GPU request: 6 on Cedar, 16 on Graham.\n",
    "# #SBATCH --mem-per-cpu=4G     # memory per node\n",
    "# #SBATCH --time=0-10:00       # time (DD-HH:MM)\n",
    "# #SBATCH --output=./STEVE_AntPyBulletEnv_%N-%j.out        # %N for node name, %j for jobID\n",
    "# ## Main processing command\n",
    "# module load cuda cudnn \n",
    "# source ~/tf_gpu/bin/activate\n",
    "# python ./master.py  config/experiments/goodruns_pybullet/AntPyBulletEnv/steve0.json 0"
   ]
  },
  {
   "cell_type": "markdown",
   "metadata": {},
   "source": [
    "# Submit Job Script"
   ]
  },
  {
   "cell_type": "code",
   "execution_count": 7,
   "metadata": {},
   "outputs": [],
   "source": [
    "job_list = os.listdir(job_dir)\n",
    "job_list.sort()"
   ]
  },
  {
   "cell_type": "code",
   "execution_count": 8,
   "metadata": {},
   "outputs": [
    {
     "name": "stdout",
     "output_type": "stream",
     "text": [
      "1 ---- job_AntMuJoCoEnv_mve_tdk0.sh: 0\n",
      "2 ---- job_AntMuJoCoEnv_mve_tdk1.sh: 0\n",
      "3 ---- job_AntMuJoCoEnv_mve_tdk2.sh: 0\n",
      "4 ---- job_AntMuJoCoEnv_mve_tdk3.sh: 0\n",
      "5 ---- job_AntMuJoCoEnv_steve0.sh: 0\n",
      "6 ---- job_AntMuJoCoEnv_steve1.sh: 0\n",
      "7 ---- job_AntMuJoCoEnv_steve2.sh: 0\n",
      "8 ---- job_AntMuJoCoEnv_steve3.sh: 0\n",
      "9 ---- job_AntPyBulletEnv_mve_tdk0.sh: 0\n",
      "10 ---- job_AntPyBulletEnv_mve_tdk1.sh: 0\n",
      "11 ---- job_AntPyBulletEnv_mve_tdk2.sh: 0\n",
      "12 ---- job_AntPyBulletEnv_mve_tdk3.sh: 0\n",
      "13 ---- job_AntPyBulletEnv_steve0.sh: 0\n",
      "14 ---- job_AntPyBulletEnv_steve1.sh: 0\n",
      "15 ---- job_AntPyBulletEnv_steve2.sh: 0\n",
      "16 ---- job_AntPyBulletEnv_steve3.sh: 0\n",
      "17 ---- job_HalfCheetahMuJoCoEnv_mve_tdk0.sh: 0\n",
      "18 ---- job_HalfCheetahMuJoCoEnv_mve_tdk1.sh: 0\n",
      "19 ---- job_HalfCheetahMuJoCoEnv_mve_tdk2.sh: 0\n",
      "20 ---- job_HalfCheetahMuJoCoEnv_mve_tdk3.sh: 0\n",
      "21 ---- job_HalfCheetahMuJoCoEnv_steve0.sh: 0\n",
      "22 ---- job_HalfCheetahMuJoCoEnv_steve1.sh: 0\n",
      "23 ---- job_HalfCheetahMuJoCoEnv_steve2.sh: 0\n",
      "24 ---- job_HalfCheetahMuJoCoEnv_steve3.sh: 0\n",
      "25 ---- job_HalfCheetahPyBulletEnv_mve_tdk0.sh: 0\n",
      "26 ---- job_HalfCheetahPyBulletEnv_mve_tdk1.sh: 0\n",
      "27 ---- job_HalfCheetahPyBulletEnv_mve_tdk2.sh: 0\n",
      "28 ---- job_HalfCheetahPyBulletEnv_mve_tdk3.sh: 0\n",
      "29 ---- job_HalfCheetahPyBulletEnv_steve0.sh: 0\n",
      "30 ---- job_HalfCheetahPyBulletEnv_steve1.sh: 0\n",
      "31 ---- job_HalfCheetahPyBulletEnv_steve2.sh: 0\n",
      "32 ---- job_HalfCheetahPyBulletEnv_steve3.sh: 0\n",
      "33 ---- job_HopperPyBulletEnv_mve_tdk0.sh: 0\n",
      "34 ---- job_HopperPyBulletEnv_mve_tdk1.sh: 0\n",
      "35 ---- job_HopperPyBulletEnv_mve_tdk2.sh: 0\n",
      "36 ---- job_HopperPyBulletEnv_mve_tdk3.sh: 0\n",
      "37 ---- job_HopperPyBulletEnv_steve0.sh: 0\n",
      "38 ---- job_HopperPyBulletEnv_steve1.sh: 0\n",
      "39 ---- job_HopperPyBulletEnv_steve2.sh: 0\n",
      "40 ---- job_HopperPyBulletEnv_steve3.sh: 0\n",
      "41 ---- job_HumanoidPyBulletEnv_mve_tdk0.sh: 0\n",
      "42 ---- job_HumanoidPyBulletEnv_mve_tdk1.sh: 0\n",
      "43 ---- job_HumanoidPyBulletEnv_mve_tdk2.sh: 0\n",
      "44 ---- job_HumanoidPyBulletEnv_mve_tdk3.sh: 0\n",
      "45 ---- job_HumanoidPyBulletEnv_steve0.sh: 0\n",
      "46 ---- job_HumanoidPyBulletEnv_steve1.sh: 0\n",
      "47 ---- job_HumanoidPyBulletEnv_steve2.sh: 0\n",
      "48 ---- job_HumanoidPyBulletEnv_steve3.sh: 0\n",
      "49 ---- job_Walker2DMuJoCoEnv_mve_tdk0.sh: 0\n",
      "50 ---- job_Walker2DMuJoCoEnv_mve_tdk1.sh: 0\n",
      "51 ---- job_Walker2DMuJoCoEnv_mve_tdk2.sh: 0\n",
      "52 ---- job_Walker2DMuJoCoEnv_mve_tdk3.sh: 0\n",
      "53 ---- job_Walker2DMuJoCoEnv_steve0.sh: 0\n",
      "54 ---- job_Walker2DMuJoCoEnv_steve1.sh: 0\n",
      "55 ---- job_Walker2DMuJoCoEnv_steve2.sh: 0\n",
      "56 ---- job_Walker2DMuJoCoEnv_steve3.sh: 0\n",
      "57 ---- job_Walker2DPyBulletEnv_mve_tdk0.sh: 0\n",
      "58 ---- job_Walker2DPyBulletEnv_mve_tdk1.sh: 0\n",
      "59 ---- job_Walker2DPyBulletEnv_mve_tdk2.sh: 0\n",
      "60 ---- job_Walker2DPyBulletEnv_mve_tdk3.sh: 0\n",
      "61 ---- job_Walker2DPyBulletEnv_steve0.sh: 0\n",
      "62 ---- job_Walker2DPyBulletEnv_steve1.sh: 0\n",
      "63 ---- job_Walker2DPyBulletEnv_steve2.sh: 0\n",
      "64 ---- job_Walker2DPyBulletEnv_steve3.sh: 0\n"
     ]
    }
   ],
   "source": [
    "i=1\n",
    "for job in job_list:\n",
    "    code = os.system('sbatch {}'.format(os.path.join(job_dir, job)))\n",
    "    print('{} ---- {}: {}'.format(i, job, code))\n",
    "    i += 1"
   ]
  },
  {
   "cell_type": "code",
   "execution_count": null,
   "metadata": {},
   "outputs": [],
   "source": []
  }
 ],
 "metadata": {
  "kernelspec": {
   "display_name": "Python 3",
   "language": "python",
   "name": "python3"
  },
  "language_info": {
   "codemirror_mode": {
    "name": "ipython",
    "version": 3
   },
   "file_extension": ".py",
   "mimetype": "text/x-python",
   "name": "python",
   "nbconvert_exporter": "python",
   "pygments_lexer": "ipython3",
   "version": "3.7.4"
  }
 },
 "nbformat": 4,
 "nbformat_minor": 4
}
